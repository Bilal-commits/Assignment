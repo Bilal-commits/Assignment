{
 "cells": [
  {
   "cell_type": "code",
   "execution_count": 14,
   "metadata": {},
   "outputs": [
    {
     "name": "stdout",
     "output_type": "stream",
     "text": [
      "Enter first value6\n",
      "Enter second value2\n",
      "Enter operator**\n",
      "36 answer\n"
     ]
    }
   ],
   "source": [
    "val1 = input('Enter first value')\n",
    "val2 = input('Enter second value')\n",
    "operator = input('Enter operator')\n",
    "val1=int(val1)\n",
    "val2=int(val2)\n",
    "\n",
    "if operator=='+':\n",
    "    val=val1 + val2\n",
    "    print(val,'answer')\n",
    "elif operator=='-':\n",
    "    val=val1 - val2\n",
    "    print(val,'answer')\n",
    "    \n",
    "elif operator=='*':\n",
    "    val=val1 * val2\n",
    "    print(val,'answer')\n",
    "elif operator=='/':\n",
    "    val=val1 / val2\n",
    "    print(val,'answer')\n",
    "elif operator=='**':\n",
    "    val=val1 ** val2\n",
    "    print(val,'answer')\n",
    "else:\n",
    "    print(\"Enter the correct operator\")"
   ]
  },
  {
   "cell_type": "code",
   "execution_count": 10,
   "metadata": {},
   "outputs": [
    {
     "name": "stdout",
     "output_type": "stream",
     "text": [
      "Checking if 5 exists in list : \n",
      "Element is present\n"
     ]
    }
   ],
   "source": [
    "random_list = [ 1, 6, 3, 5, 3, 4 ]\n",
    "print(\"Checking if 5 exists in list : \") \n",
    "for i in random_list: \n",
    "    if(i == 5) : \n",
    "        print (\"Element is present\")"
   ]
  },
  {
   "cell_type": "code",
   "execution_count": 11,
   "metadata": {},
   "outputs": [
    {
     "name": "stdout",
     "output_type": "stream",
     "text": [
      "{0: 10, 1: 20}\n",
      "{0: 10, 1: 20, 2: 40}\n"
     ]
    }
   ],
   "source": [
    "d = {0:10, 1:20}\n",
    "print(d)\n",
    "d.update({2:40})\n",
    "print(d)"
   ]
  },
  {
   "cell_type": "code",
   "execution_count": 4,
   "metadata": {},
   "outputs": [
    {
     "name": "stdout",
     "output_type": "stream",
     "text": [
      "Total sum of values in the dictionary:\n",
      "1879\n"
     ]
    }
   ],
   "source": [
    "d={'A':600,'B':840,'C':439}\n",
    "print(\"Total sum of values in the dictionary:\")\n",
    "print(sum(d.values()))\n"
   ]
  },
  {
   "cell_type": "code",
   "execution_count": 5,
   "metadata": {},
   "outputs": [
    {
     "name": "stdout",
     "output_type": "stream",
     "text": [
      "[30, 20, -20]\n"
     ]
    }
   ],
   "source": [
    "def Repeat(x): \n",
    "    _size = len(x) \n",
    "    repeated = [] \n",
    "    for i in range(_size): \n",
    "        k = i + 1\n",
    "        for j in range(k, _size): \n",
    "            if x[i] == x[j] and x[i] not in repeated: \n",
    "                repeated.append(x[i]) \n",
    "    return repeated \n",
    "list1 = [10, 25, 30, 20, 20, 30, 40,  \n",
    "         50, -20, 60, 20, -20, -20] \n",
    "print (Repeat(list1)) \n"
   ]
  },
  {
   "cell_type": "code",
   "execution_count": 8,
   "metadata": {},
   "outputs": [
    {
     "name": "stdout",
     "output_type": "stream",
     "text": [
      "Enter key to check:A\n",
      "Key is present and value of the key is:\n",
      "1\n"
     ]
    }
   ],
   "source": [
    "d={'A':1,'B':2,'C':3}\n",
    "key=input(\"Enter key to check:\")\n",
    "if key in d.keys():\n",
    "      print(\"Key is present and value of the key is:\")\n",
    "      print(d[key])\n",
    "else:\n",
    "      print(\"Key isn't present!\")"
   ]
  },
  {
   "cell_type": "code",
   "execution_count": null,
   "metadata": {},
   "outputs": [],
   "source": []
  },
  {
   "cell_type": "code",
   "execution_count": null,
   "metadata": {},
   "outputs": [],
   "source": []
  }
 ],
 "metadata": {
  "kernelspec": {
   "display_name": "Python 3",
   "language": "python",
   "name": "python3"
  },
  "language_info": {
   "codemirror_mode": {
    "name": "ipython",
    "version": 3
   },
   "file_extension": ".py",
   "mimetype": "text/x-python",
   "name": "python",
   "nbconvert_exporter": "python",
   "pygments_lexer": "ipython3",
   "version": "3.7.4"
  }
 },
 "nbformat": 4,
 "nbformat_minor": 2
}
