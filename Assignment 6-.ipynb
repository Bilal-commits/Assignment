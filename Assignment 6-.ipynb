{
 "cells": [
  {
   "cell_type": "markdown",
   "metadata": {},
   "source": [
    "# Question 1:\n",
    "## Object Oriented Programming\n",
    " #### Definition\n",
    "  Object-oriented programming (OOP) refers to a type of computer programming (software design) in which programmers define the data type of a data structure, and also the types of operations (functions) that can be applied to the data structure."
   ]
  },
  {
   "cell_type": "markdown",
   "metadata": {},
   "source": [
    "# Question 2:\n",
    "### Benefits of OOP\n",
    " Here's a detailed look at some of OOP's top benefits:\n",
    "###### 1.\n",
    "Modularity for easier troubleshooting. Something has gone wrong, and you have no idea where to look.\n",
    "###### 2.\n",
    "Reuse of code through inheritance.\n",
    "###### 3.\n",
    "Flexibility through polymorphism\n",
    "###### 4.\n",
    "Effective problem solving."
   ]
  },
  {
   "cell_type": "markdown",
   "metadata": {},
   "source": [
    "# Question 3:\n",
    "## Difference between Function and Method\n",
    "#### Function\n",
    "###### 1.\n",
    "Function is block of code that is also called by its name. (independent)\n",
    "###### 2.\n",
    "The function can have different parameters or may not have any at all. If any data (parameters) are passed, they are passed explicitly.\n",
    "###### 3.\n",
    "It may or may not return any data.\n",
    "###### 4.\n",
    "Function does not deal with Class and its instance concept.\n",
    "\n",
    "#### Method\n",
    "###### 1.\n",
    "Method is called by its name, but it is associated to an object (dependent).\n",
    "###### 2.\n",
    "A method is implicitly passed the object on which it is invoked.\n",
    "###### 3.\n",
    "It may or may not return any data.\n",
    "###### 4.\n",
    "A method can operate on the data (instance variables) that is contained by the corresponding class."
   ]
  },
  {
   "cell_type": "markdown",
   "metadata": {},
   "source": [
    "# Question 4:\n",
    "### 1. Class\n",
    "#### Definiton:\n",
    "A class is a code template for creating objects. Objects have member variables and have behaviour associated with them.\n",
    "\n",
    "### 2. Object\n",
    "#### Definiton:\n",
    "Object is simply a collection of data (variables) and methods (functions) that act on those data.\n",
    "\n",
    "### 3. Attribute\n",
    "#### Definiton:\n",
    "An instance attribute is a Python variable belonging to one, and only one, object.\n",
    "\n",
    "### 4. Behaviour\n",
    "#### Definiton:\n",
    "Behave is behaviour-driven development, Python style. Behavior-driven development (or BDD) is an agile software development technique that encourages collaboration between developers, QA and non-technical or business participants in a software project."
   ]
  },
  {
   "cell_type": "code",
   "execution_count": 1,
   "metadata": {},
   "outputs": [
    {
     "name": "stdout",
     "output_type": "stream",
     "text": [
      "<class '__main__.Car'>\n"
     ]
    }
   ],
   "source": [
    "# Question 5:\n",
    "class Car():\n",
    "    def init(self,name):\n",
    "        self.name = name\n",
    "    def init(self,color):\n",
    "        self.color = color\n",
    "    def init(self,model):\n",
    "        self.model = model\n",
    "    def init(self,manual):\n",
    "        self.manual = manual\n",
    "    def init(self,automatic):\n",
    "        self.automatic = automatic\n",
    "   \n",
    "    def showname(self):\n",
    "        print(name)\n",
    "    def showcolor(self):\n",
    "        print(color)\n",
    "    def showmodel(self):\n",
    "        print(model)\n",
    "\n",
    "car_1 = Car()\n",
    "car_2 = Car()\n",
    "car_3 = Car()\n",
    "car_4 = Car()\n",
    "car_5 = Car()\n",
    "   \n",
    "print(type(car_1))"
   ]
  },
  {
   "cell_type": "code",
   "execution_count": null,
   "metadata": {},
   "outputs": [],
   "source": []
  }
 ],
 "metadata": {
  "kernelspec": {
   "display_name": "Python 3",
   "language": "python",
   "name": "python3"
  },
  "language_info": {
   "codemirror_mode": {
    "name": "ipython",
    "version": 3
   },
   "file_extension": ".py",
   "mimetype": "text/x-python",
   "name": "python",
   "nbconvert_exporter": "python",
   "pygments_lexer": "ipython3",
   "version": "3.7.4"
  }
 },
 "nbformat": 4,
 "nbformat_minor": 2
}
