{
 "cells": [
  {
   "cell_type": "code",
   "execution_count": 25,
   "metadata": {},
   "outputs": [
    {
     "name": "stdout",
     "output_type": "stream",
     "text": [
      "Enter the number of which factnum has to be calculated:4\n",
      "24\n"
     ]
    }
   ],
   "source": [
    "def factnum (n):\n",
    "    if n==0:\n",
    "       return 1\n",
    "    else:\n",
    "       return n*factnum(n-1)\n",
    "    \n",
    "n=int(input(\"Enter the number of which factnum has to be calculated:\"))\n",
    "print(factnum(n))\n",
    "\n",
    "    "
   ]
  },
  {
   "cell_type": "code",
   "execution_count": 42,
   "metadata": {},
   "outputs": [
    {
     "name": "stdout",
     "output_type": "stream",
     "text": [
      "Original String :  World is a Global Village now\n",
      "No. of Upper case characters :  3\n",
      "No. of Lower case Characters :  21\n"
     ]
    }
   ],
   "source": [
    "def string_test(s):\n",
    "    d={\"UPPER_CASE\":0, \"LOWER_CASE\":0}\n",
    "    for c in s:\n",
    "        if c.isupper():\n",
    "           d[\"UPPER_CASE\"]+=1\n",
    "        elif c.islower():\n",
    "           d[\"LOWER_CASE\"]+=1\n",
    "        else:\n",
    "           pass\n",
    "    print (\"Original String : \", s)\n",
    "    print (\"No. of Upper case characters : \", d[\"UPPER_CASE\"])\n",
    "    print (\"No. of Lower case Characters : \", d[\"LOWER_CASE\"])\n",
    "\n",
    "string_test('World is a Global Village now')\n"
   ]
  },
  {
   "cell_type": "code",
   "execution_count": 43,
   "metadata": {},
   "outputs": [
    {
     "name": "stdout",
     "output_type": "stream",
     "text": [
      "[46, 78, 86]\n"
     ]
    }
   ],
   "source": [
    "def is_even_num(l):\n",
    "    enum = []\n",
    "    for n in l:\n",
    "        if n % 2 == 0:\n",
    "            enum.append(n)\n",
    "    return enum\n",
    "print(is_even_num([101,65,46,78,86,21,25,7]))\n",
    " "
   ]
  },
  {
   "cell_type": "code",
   "execution_count": 44,
   "metadata": {},
   "outputs": [
    {
     "name": "stdout",
     "output_type": "stream",
     "text": [
      "True\n"
     ]
    }
   ],
   "source": [
    "def isPalindrome(string):\n",
    "    left_pos = 0\n",
    "    right_pos = len(string) - 1\n",
    "\n",
    "    while right_pos >= left_pos:\n",
    "        if not string[left_pos] == string[right_pos]:\n",
    "            return False\n",
    "        left_pos += 1\n",
    "        right_pos -= 1\n",
    "    return True\n",
    "print(isPalindrome('rotator')) \n",
    "\n"
   ]
  },
  {
   "cell_type": "code",
   "execution_count": 45,
   "metadata": {},
   "outputs": [
    {
     "name": "stdout",
     "output_type": "stream",
     "text": [
      "True\n"
     ]
    }
   ],
   "source": [
    "def test_primenumber(n):\n",
    "    if (n==1):\n",
    "        return False\n",
    "    elif (n==2):\n",
    "        return True;\n",
    "    else:\n",
    "        for x in range(2,n):\n",
    "            if(n % x==0):\n",
    "                return False\n",
    "        return True             \n",
    "print(test_primenumber(5))\n"
   ]
  },
  {
   "cell_type": "code",
   "execution_count": 2,
   "metadata": {},
   "outputs": [
    {
     "name": "stdout",
     "output_type": "stream",
     "text": [
      "\n",
      " Enter the item you bought from market \n",
      " If you leave enter 'quit':Cutlery\n",
      "\n",
      " Enter the item you bought from market \n",
      " If you leave enter 'quit':Facewash\n",
      "\n",
      " Enter the item you bought from market \n",
      " If you leave enter 'quit':Confectionery\n",
      "\n",
      " Enter the item you bought from market \n",
      " If you leave enter 'quit':Footwear\n",
      "\n",
      " Enter the item you bought from market \n",
      " If you leave enter 'quit':quit\n",
      "\n",
      " shopping list\n",
      "You bought:  ['Cutlery', 'Facewash', 'Confectionery', 'Footwear']\n"
     ]
    }
   ],
   "source": [
    "def customer_shopping(*shopping_list):\n",
    "    print(\"\\n shopping list\")\n",
    "    for element in shopping_list:\n",
    "        print(\"You bought: \",element)\n",
    "        \n",
    "shopping_list = []\n",
    "\n",
    "while True:\n",
    "    items =input(\"\\n Enter the item you bought from market \\n If you leave enter 'quit':\")\n",
    "    if items == 'quit':\n",
    "        break\n",
    "    shopping_list.append(items)\n",
    "    \n",
    "customer_shopping(shopping_list)"
   ]
  },
  {
   "cell_type": "code",
   "execution_count": null,
   "metadata": {},
   "outputs": [],
   "source": []
  }
 ],
 "metadata": {
  "kernelspec": {
   "display_name": "Python 3",
   "language": "python",
   "name": "python3"
  },
  "language_info": {
   "codemirror_mode": {
    "name": "ipython",
    "version": 3
   },
   "file_extension": ".py",
   "mimetype": "text/x-python",
   "name": "python",
   "nbconvert_exporter": "python",
   "pygments_lexer": "ipython3",
   "version": "3.7.4"
  }
 },
 "nbformat": 4,
 "nbformat_minor": 2
}
