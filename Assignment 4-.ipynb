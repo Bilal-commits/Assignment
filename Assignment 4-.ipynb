{
 "cells": [
  {
   "cell_type": "code",
   "execution_count": 1,
   "metadata": {},
   "outputs": [
    {
     "name": "stdout",
     "output_type": "stream",
     "text": [
      "{'first_name': 'Syed ', 'last_name': 'Bilal', 'age': 20, 'city': 'Karachi'}\n",
      "{'first_name': 'Syed ', 'last_name': 'Bilal', 'age': 20, 'city': 'Karachi', 'Qualification': \"Intermediate('Pre-Engineering') from Adamjee Govt. Science College\"}\n",
      "{'first_name': 'Syed ', 'last_name': 'Bilal', 'age': 20, 'city': 'Karachi'}\n"
     ]
    }
   ],
   "source": [
    "data = {\"first_name\":\"Syed \",\"last_name\":\"Bilal\",\"age\":20,\"city\":\"Karachi\"}\n",
    "print(data)\n",
    "data[\"Qualification\"] = \"Intermediate('Pre-Engineering') from Adamjee Govt. Science College\"\n",
    "print(data)\n",
    "del data[\"Qualification\"]\n",
    "print(data)"
   ]
  },
  {
   "cell_type": "code",
   "execution_count": 2,
   "metadata": {},
   "outputs": [
    {
     "name": "stdout",
     "output_type": "stream",
     "text": [
      "Hyderabad {'country': 'Pakistan', 'Population': '2 Million', 'fact': '2nd biggest city of Sindh'}\n",
      "Faisalabad {'country': 'Pakistan', 'Population': '6 million', 'fact': 'Famous for its textile industry'}\n",
      "Multan {'country': 'Pakistan', 'Population': '3 million', 'fact': 'City of Saints'}\n"
     ]
    }
   ],
   "source": [
    "city = {\"Hyderabad\":{\"country\":\"Pakistan\",\"Population\":\"2 Million\",\"fact\":\"2nd biggest city of Sindh\"},\n",
    "        \"Faisalabad\":{\"country\":\"Pakistan\",\"Population\":\"6 million\",'fact':\"Famous for its textile industry\"},\n",
    "       \"Multan\":{\"country\":\"Pakistan\",\"Population\":\"3 million\",\"fact\":\"City of Saints\"}}\n",
    "for k,v in city.items():\n",
    "    print(k,v)"
   ]
  },
  {
   "cell_type": "code",
   "execution_count": 4,
   "metadata": {},
   "outputs": [
    {
     "name": "stdout",
     "output_type": "stream",
     "text": [
      "How old are you?21\n",
      "The ticket is $15\n"
     ]
    }
   ],
   "source": [
    "for i in range(3):\n",
    "    age = int(input(\"How old are you?\"))\n",
    "    if age <=3:\n",
    "        print(\"The ticket is free\")\n",
    "        break\n",
    "    if age >3 and age <=12:\n",
    "        print(\"The ticket is $10\")\n",
    "        break\n",
    "    if age > 12:\n",
    "        print(\"The ticket is $15\")\n",
    "        break"
   ]
  },
  {
   "cell_type": "code",
   "execution_count": 5,
   "metadata": {},
   "outputs": [
    {
     "data": {
      "text/plain": [
       "('One of my favourite book is', 'A Tale Of Two Cities')"
      ]
     },
     "execution_count": 5,
     "metadata": {},
     "output_type": "execute_result"
    }
   ],
   "source": [
    "def favourite_book(title):\n",
    "        return \"One of my favourite book is\",title\n",
    "favourite_book('A Tale Of Two Cities')"
   ]
  },
  {
   "cell_type": "code",
   "execution_count": 11,
   "metadata": {},
   "outputs": [
    {
     "name": "stdout",
     "output_type": "stream",
     "text": [
      "================HINT================\n",
      "try a number between 1 and 10\n",
      "enter your guess: 2\n",
      "your guess is right\n"
     ]
    }
   ],
   "source": [
    "import random\n",
    "b=random.randint(1,30) \n",
    "print(\"================HINT================\")\n",
    "if b>= 1 and b < 10:\n",
    "    print(\"try a number between 1 and 10\")\n",
    "elif b >= 10 and b < 20:\n",
    "    print(\"try a number between 10 and 20\")\n",
    "elif b >= 20 and b < 30:\n",
    "    print(\"try a number between 20 and 30\")\n",
    "for i in range(0,3):\n",
    "    user = int(input(\"enter your guess: \"))\n",
    "    if user < 1 or user > 30:\n",
    "        print(\"choose a number between 1 and 30\")\n",
    "    else:\n",
    "        if user == b:\n",
    "            print(\"your guess is right\")\n",
    "            break\n",
    "        else:\n",
    "            print(\"your guess is wrong\")\n",
    "            print(\"============better luck next time :-)============\")"
   ]
  },
  {
   "cell_type": "code",
   "execution_count": null,
   "metadata": {},
   "outputs": [],
   "source": []
  },
  {
   "cell_type": "code",
   "execution_count": null,
   "metadata": {},
   "outputs": [],
   "source": []
  }
 ],
 "metadata": {
  "kernelspec": {
   "display_name": "Python 3",
   "language": "python",
   "name": "python3"
  },
  "language_info": {
   "codemirror_mode": {
    "name": "ipython",
    "version": 3
   },
   "file_extension": ".py",
   "mimetype": "text/x-python",
   "name": "python",
   "nbconvert_exporter": "python",
   "pygments_lexer": "ipython3",
   "version": "3.7.4"
  }
 },
 "nbformat": 4,
 "nbformat_minor": 2
}
